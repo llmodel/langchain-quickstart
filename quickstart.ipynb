{
 "cells": [
  {
   "cell_type": "markdown",
   "metadata": {},
   "source": [
    "## [LangChain Quickstart Guide](https://python.langchain.com/docs/get_started/quickstart)"
   ]
  },
  {
   "cell_type": "markdown",
   "metadata": {},
   "source": [
    "Load the environmental variables form .env file"
   ]
  },
  {
   "cell_type": "code",
   "execution_count": 93,
   "metadata": {},
   "outputs": [
    {
     "data": {
      "text/plain": [
       "True"
      ]
     },
     "execution_count": 93,
     "metadata": {},
     "output_type": "execute_result"
    }
   ],
   "source": [
    "import json\n",
    "import textwrap\n",
    "from dotenv import load_dotenv\n",
    "import os\n",
    "load_dotenv()"
   ]
  },
  {
   "cell_type": "code",
   "execution_count": 64,
   "metadata": {},
   "outputs": [],
   "source": [
    "def printlongtext(text, max_lines=10):\n",
    "    short_strings = textwrap.wrap(text, 80)\n",
    "    lines = len(short_strings)\n",
    "    if lines < max_lines:\n",
    "        max_lines = lines\n",
    "    for index in range(0, max_lines):\n",
    "        print(short_strings[index])\n",
    "        "
   ]
  },
  {
   "cell_type": "code",
   "execution_count": null,
   "metadata": {},
   "outputs": [],
   "source": []
  },
  {
   "cell_type": "markdown",
   "metadata": {},
   "source": [
    "### LLM Chain"
   ]
  },
  {
   "cell_type": "code",
   "execution_count": 2,
   "metadata": {},
   "outputs": [],
   "source": [
    "from langchain_openai import ChatOpenAI\n",
    "llm = ChatOpenAI()"
   ]
  },
  {
   "cell_type": "code",
   "execution_count": 7,
   "metadata": {},
   "outputs": [],
   "source": [
    "result =llm.invoke(\"how can langsmith help with testing?\")"
   ]
  },
  {
   "cell_type": "markdown",
   "metadata": {},
   "source": [
    "Examine the result"
   ]
  },
  {
   "cell_type": "code",
   "execution_count": 23,
   "metadata": {},
   "outputs": [
    {
     "name": "stdout",
     "output_type": "stream",
     "text": [
      "Langsmith can help with testing in a few ways:\n",
      "\n",
      "1. Automated testing: Langsmith can help create and execute automated tests, saving time and effort in manual testing.\n",
      "\n",
      "2. Test case management: Langsmith can help organize and manage test cases, making it easier to track progress and ensure complete test coverage.\n",
      "\n",
      "3. Test data generation: Langsmith can help generate test data to simulate real-world scenarios, improving the accuracy and effectiveness of testing.\n",
      "\n",
      "4. Performance testing: Langsmith can help conduct performance testing to assess how well a system performs under various conditions.\n",
      "\n",
      "5. Bug tracking: Langsmith can help track and manage bugs found during testing, making it easier to prioritize and resolve issues. \n",
      "\n",
      "Overall, Langsmith can streamline the testing process, improve efficiency, and enhance the overall quality of software products.\n",
      "\"{\\\"content\\\": \\\"Langsmith can help with testing in a few ways:\\\\n\\\\n1. Automated testing: Langsmith can help create and execute automated tests, saving time and effort in manual testing.\\\\n\\\\n2. Test case management: Langsmith can help organize and manage test cases, making it easier to track progress and ensure complete test coverage.\\\\n\\\\n3. Test data generation: Langsmith can help generate test data to simulate real-world scenarios, improving the accuracy and effectiveness of testing.\\\\n\\\\n4. Performance testing: Langsmith can help conduct performance testing to assess how well a system performs under various conditions.\\\\n\\\\n5. Bug tracking: Langsmith can help track and manage bugs found during testing, making it easier to prioritize and resolve issues. \\\\n\\\\nOverall, Langsmith can streamline the testing process, improve efficiency, and enhance the overall quality of software products.\\\", \\\"additional_kwargs\\\": {}, \\\"type\\\": \\\"ai\\\", \\\"example\\\": false}\"\n"
     ]
    }
   ],
   "source": [
    "print(result.content)\n",
    "# print the json object as a string with pretty formatting with indent of 4, also make it wrap long lines\n",
    "print(json.dumps(result.json(), indent=4))"
   ]
  },
  {
   "cell_type": "code",
   "execution_count": 4,
   "metadata": {},
   "outputs": [],
   "source": [
    "from langchain_core.prompts import ChatPromptTemplate\n",
    "prompt = ChatPromptTemplate.from_messages([\n",
    "    (\"system\", \"You are world class technical documentation writer.\"),\n",
    "    (\"user\", \"{input}\")\n",
    "])"
   ]
  },
  {
   "cell_type": "markdown",
   "metadata": {},
   "source": [
    "Combine prompt and llm into a chain."
   ]
  },
  {
   "cell_type": "code",
   "execution_count": 5,
   "metadata": {},
   "outputs": [],
   "source": [
    "chain = prompt | llm "
   ]
  },
  {
   "cell_type": "code",
   "execution_count": 6,
   "metadata": {},
   "outputs": [
    {
     "data": {
      "text/plain": [
       "AIMessage(content='Langsmith can help with testing in several ways:\\n\\n1. Test Automation: Langsmith can automate the testing process by writing scripts and test cases in various programming languages. This can help in executing repetitive tests quickly and efficiently.\\n\\n2. Test Data Generation: Langsmith can generate test data for testing purposes. It can create a variety of data sets to simulate different scenarios and edge cases, helping to ensure thorough test coverage.\\n\\n3. Performance Testing: Langsmith can be used to conduct performance testing by simulating a large number of users or transactions. This can help in identifying any performance bottlenecks or issues in the system.\\n\\n4. Integration Testing: Langsmith can assist in integration testing by writing scripts to test the interactions between different components or systems. This can help in ensuring that the integrated system functions as expected.\\n\\n5. Regression Testing: Langsmith can automate regression testing by re-running tests on new code changes to ensure that existing functionalities are not affected. This can help in maintaining the quality of the software over time.\\n\\nOverall, Langsmith can streamline the testing process, improve test coverage, and help in identifying and resolving issues early in the development cycle.')"
      ]
     },
     "execution_count": 6,
     "metadata": {},
     "output_type": "execute_result"
    }
   ],
   "source": [
    "chain.invoke({\"input\": \"how can langsmith help with testing?\"})"
   ]
  },
  {
   "cell_type": "code",
   "execution_count": 24,
   "metadata": {},
   "outputs": [],
   "source": [
    "from langchain_core.output_parsers import StrOutputParser\n",
    "\n",
    "output_parser = StrOutputParser()"
   ]
  },
  {
   "cell_type": "code",
   "execution_count": 25,
   "metadata": {},
   "outputs": [],
   "source": [
    "chain = prompt | llm | output_parser"
   ]
  },
  {
   "cell_type": "code",
   "execution_count": 26,
   "metadata": {},
   "outputs": [
    {
     "data": {
      "text/plain": [
       "'Langsmith can help with testing in several ways:\\n\\n1. Test Generation: Langsmith can automatically generate test cases based on the specified requirements and input parameters. This can save time and effort in manually creating test cases.\\n\\n2. Test Automation: Langsmith can automate the execution of test cases, making it easier to run tests repeatedly and consistently. This can help in regression testing and ensuring the stability of the software.\\n\\n3. Test Data Generation: Langsmith can generate test data to cover different scenarios and edge cases, ensuring thorough testing of the software.\\n\\n4. Code Analysis: Langsmith can perform code analysis to identify potential issues and bugs in the code, helping testers to focus on areas that require attention.\\n\\n5. Integration with Testing Tools: Langsmith can integrate with popular testing tools and frameworks, making it easier to incorporate automated testing into the development process.\\n\\nOverall, Langsmith can streamline the testing process, improve test coverage, and help in delivering high-quality software products.'"
      ]
     },
     "execution_count": 26,
     "metadata": {},
     "output_type": "execute_result"
    }
   ],
   "source": [
    "result = chain.invoke({\"input\": \"how can langsmith help with testing?\"})"
   ]
  },
  {
   "cell_type": "code",
   "execution_count": 31,
   "metadata": {},
   "outputs": [
    {
     "name": "stdout",
     "output_type": "stream",
     "text": [
      "\"{\\\"content\\\": \\\"Langsmith can help with testing in a few ways:\\\\n\\\\n1. Automated testing: Langsmith can help create and execute automated tests, saving time and effort in manual testing.\\\\n\\\\n2. Test case management: Langsmith can help organize and manage test cases, making it easier to track progress and ensure complete test coverage.\\\\n\\\\n3. Test data generation: Langsmith can help generate test data to simulate real-world scenarios, improving the accuracy and effectiveness of testing.\\\\n\\\\n4. Performance testing: Langsmith can help conduct performance testing to assess how well a system performs under various conditions.\\\\n\\\\n5. Bug tracking: Langsmith can help track and manage bugs found during testing, making it easier to prioritize and resolve issues. \\\\n\\\\nOverall, Langsmith can streamline the testing process, improve efficiency, and enhance the overall quality of software products.\\\", \\\"additional_kwargs\\\": {}, \\\"type\\\": \\\"ai\\\", \\\"example\\\": false}\"\n",
      "--------------------------------------------------------------------------------\n",
      "Langsmith can help with testing in a few ways:\n",
      "\n",
      "1. Automated testing: Langsmith can help create and execute automated tests, saving time and effort in manual testing.\n",
      "\n",
      "2. Test case management: Langsmith can help organize and manage test cases, making it easier to track progress and ensure complete test coverage.\n",
      "\n",
      "3. Test data generation: Langsmith can help generate test data to simulate real-world scenarios, improving the accuracy and effectiveness of testing.\n",
      "\n",
      "4. Performance testing: Langsmith can help conduct performance testing to assess how well a system performs under various conditions.\n",
      "\n",
      "5. Bug tracking: Langsmith can help track and manage bugs found during testing, making it easier to prioritize and resolve issues. \n",
      "\n",
      "Overall, Langsmith can streamline the testing process, improve efficiency, and enhance the overall quality of software products.\n"
     ]
    }
   ],
   "source": [
    "print(json.dumps(result.json(), indent=4 ))\n",
    "print(\"-\" * 80)\n",
    "print(result.content)"
   ]
  },
  {
   "cell_type": "markdown",
   "metadata": {},
   "source": [
    "### Retrival Chain"
   ]
  },
  {
   "cell_type": "markdown",
   "metadata": {},
   "source": [
    "WebBaseLoader uses beautifulsoup to scrape text from a web page."
   ]
  },
  {
   "cell_type": "code",
   "execution_count": 32,
   "metadata": {},
   "outputs": [],
   "source": [
    "from langchain_community.document_loaders import WebBaseLoader\n",
    "loader = WebBaseLoader(\"https://docs.smith.langchain.com\")\n",
    "\n",
    "docs = loader.load()"
   ]
  },
  {
   "cell_type": "code",
   "execution_count": 69,
   "metadata": {},
   "outputs": [
    {
     "name": "stdout",
     "output_type": "stream",
     "text": [
      "LangSmith | 🦜️🛠️ LangSmith      Skip to main content🦜️🛠️ LangSmith DocsLangChain\n",
      "Python DocsLangChain JS/TS DocsLangSmith API DocsSearchGo to AppLangSmithUser\n",
      "GuideSetupPricing (Coming Soon)Self-HostingTracingEvaluationMonitoringPrompt\n",
      "HubLangSmithOn this pageLangSmithIntroduction​LangSmith is a platform for\n",
      "building production-grade LLM applications.It lets you debug, test, evaluate,\n",
      "and monitor chains and intelligent agents built on any LLM framework and\n",
      "seamlessly integrates with LangChain, the go-to open source framework for\n",
      "building with LLMs.LangSmith is developed by LangChain, the company behind the\n",
      "open source LangChain framework.Quick Start​Tracing: Get started with the\n",
      "tracing quick start.Evaluation: Get started with the evaluation quick start.Next\n",
      "Steps​Check out the following sections to learn more about LangSmith:User Guide:\n",
      "Learn about the workflows LangSmith supports at each stage of the LLM\n",
      "application lifecycle.Setup: Learn how to create an account, obtain an API key,\n",
      "and configure your environment.Pricing: Learn about the pricing model for\n",
      "LangSmith.Self-Hosting: Learn about self-hosting options for LangSmith.Tracing:\n",
      "Learn about the tracing capabilities of LangSmith.Evaluation: Learn about the\n",
      "evaluation capabilities of LangSmith.Prompt Hub Learn about the Prompt Hub, a\n",
      "prompt management tool built into LangSmith.Additional Resources​LangSmith\n",
      "Cookbook: A collection of tutorials and end-to-end walkthroughs using\n",
      "LangSmith.LangChain Python: Docs for the Python LangChain library.LangChain\n",
      "--------------------------------------------------------------------------------\n",
      "{\n",
      "    \"source\": \"https://docs.smith.langchain.com\",\n",
      "    \"title\": \"LangSmith | \\ud83e\\udd9c\\ufe0f\\ud83d\\udee0\\ufe0f LangSmith\",\n",
      "    \"description\": \"Introduction\",\n",
      "    \"language\": \"en\"\n",
      "}\n"
     ]
    }
   ],
   "source": [
    "printlongtext(docs[0].page_content.strip(\"\\n\"), 20)\n",
    "print(\"-\" * 80)\n",
    "print(json.dumps(docs[0].metadata, indent=4))"
   ]
  },
  {
   "cell_type": "markdown",
   "metadata": {},
   "source": [
    "This time uses a local embedding model from ollama"
   ]
  },
  {
   "cell_type": "code",
   "execution_count": 34,
   "metadata": {},
   "outputs": [],
   "source": [
    "from langchain_community.embeddings import OllamaEmbeddings\n",
    "\n",
    "embeddings = OllamaEmbeddings()"
   ]
  },
  {
   "cell_type": "code",
   "execution_count": 35,
   "metadata": {},
   "outputs": [],
   "source": [
    "from langchain_community.vectorstores import FAISS\n",
    "from langchain.text_splitter import RecursiveCharacterTextSplitter\n",
    "\n",
    "text_splitter = RecursiveCharacterTextSplitter()\n",
    "documents = text_splitter.split_documents(docs)\n",
    "vector = FAISS.from_documents(documents, embeddings)"
   ]
  },
  {
   "cell_type": "code",
   "execution_count": 46,
   "metadata": {},
   "outputs": [],
   "source": [
    "from langchain.chains.combine_documents import create_stuff_documents_chain\n",
    "\n",
    "prompt = ChatPromptTemplate.from_template(\"\"\"Answer the following question based only on the provided context:\n",
    "\n",
    "<context>\n",
    "{context}\n",
    "</context>\n",
    "\n",
    "Question: {input}\"\"\")\n",
    "\n",
    "document_chain = create_stuff_documents_chain(llm, prompt)"
   ]
  },
  {
   "cell_type": "code",
   "execution_count": 47,
   "metadata": {},
   "outputs": [],
   "source": [
    "from langchain.chains import create_retrieval_chain\n",
    "\n",
    "retriever = vector.as_retriever()\n",
    "retrieval_chain = create_retrieval_chain(retriever, document_chain)"
   ]
  },
  {
   "cell_type": "code",
   "execution_count": 73,
   "metadata": {},
   "outputs": [
    {
     "name": "stdout",
     "output_type": "stream",
     "text": [
      "LangSmith can help with testing by allowing users to debug, test, evaluate, and monitor chains and intelligent agents built on any LLM framework. It provides tracing and evaluation capabilities, as well as integration with the LangChain framework for building with LLMs. Users can also access the Prompt Hub, a prompt management tool built into LangSmith, for testing purposes.\n"
     ]
    }
   ],
   "source": [
    "response = retrieval_chain.invoke({\"input\": \"how can langsmith help with testing?\"})\n",
    "print(response[\"answer\"])\n",
    "\n",
    "# LangSmith offers several features that can help with testing:..."
   ]
  },
  {
   "cell_type": "code",
   "execution_count": 76,
   "metadata": {},
   "outputs": [
    {
     "name": "stdout",
     "output_type": "stream",
     "text": [
      "LangSmith can help with testing by allowing users to debug, test, evaluate, and\n",
      "monitor chains and intelligent agents built on any LLM framework. It provides\n",
      "tracing and evaluation capabilities, as well as integration with the LangChain\n",
      "framework for building with LLMs. Users can also access the Prompt Hub, a prompt\n",
      "management tool built into LangSmith, for testing purposes.\n"
     ]
    }
   ],
   "source": [
    "printlongtext(response[\"answer\"])"
   ]
  },
  {
   "cell_type": "markdown",
   "metadata": {},
   "source": [
    "## Conversation Retrieval Chain"
   ]
  },
  {
   "cell_type": "code",
   "execution_count": 77,
   "metadata": {},
   "outputs": [],
   "source": [
    "from langchain.chains import create_history_aware_retriever\n",
    "from langchain_core.prompts import MessagesPlaceholder\n",
    "\n",
    "# First we need a prompt that we can pass into an LLM to generate this search query\n",
    "\n",
    "prompt = ChatPromptTemplate.from_messages([\n",
    "    MessagesPlaceholder(variable_name=\"chat_history\"),\n",
    "    (\"user\", \"{input}\"),\n",
    "    (\"user\", \"Given the above conversation, generate a search query to look up in order to get information relevant to the conversation\")\n",
    "])\n",
    "retriever_chain = create_history_aware_retriever(llm, retriever, prompt)"
   ]
  },
  {
   "cell_type": "code",
   "execution_count": 79,
   "metadata": {},
   "outputs": [],
   "source": [
    "from langchain_core.messages import HumanMessage, AIMessage\n",
    "\n",
    "chat_history = [HumanMessage(content=\"Can LangSmith help test my LLM applications?\"), AIMessage(content=\"Yes!\")]\n",
    "result = retriever_chain.invoke({\n",
    "    \"chat_history\": chat_history,\n",
    "    \"input\": \"Tell me how\"\n",
    "})"
   ]
  },
  {
   "cell_type": "code",
   "execution_count": 85,
   "metadata": {},
   "outputs": [
    {
     "name": "stdout",
     "output_type": "stream",
     "text": [
      "LangSmith | 🦜️🛠️ LangSmith      Skip to main content🦜️🛠️ LangSmith DocsLangChain\n",
      "Python DocsLangChain JS/TS DocsLangSmith API DocsSearchGo to AppLangSmithUser\n",
      "GuideSetupPricing (Coming Soon)Self-HostingTracingEvaluationMonitoringPrompt\n",
      "HubLangSmithOn this pageLangSmithIntroduction​LangSmith is a platform for\n",
      "building production-grade LLM applications.It lets you debug, test, evaluate,\n",
      "and monitor chains and intelligent agents built on any LLM framework and\n",
      "seamlessly integrates with LangChain, the go-to open source framework for\n",
      "building with LLMs.LangSmith is developed by LangChain, the company behind the\n",
      "open source LangChain framework.Quick Start​Tracing: Get started with the\n",
      "tracing quick start.Evaluation: Get started with the evaluation quick start.Next\n"
     ]
    }
   ],
   "source": [
    "printlongtext(result[0].page_content)"
   ]
  },
  {
   "cell_type": "code",
   "execution_count": 86,
   "metadata": {},
   "outputs": [],
   "source": [
    "prompt = ChatPromptTemplate.from_messages([\n",
    "    (\"system\", \"Answer the user's questions based on the below context:\\n\\n{context}\"),\n",
    "    MessagesPlaceholder(variable_name=\"chat_history\"),\n",
    "    (\"user\", \"{input}\"),\n",
    "])\n",
    "document_chain = create_stuff_documents_chain(llm, prompt)\n",
    "\n",
    "retrieval_chain = create_retrieval_chain(retriever_chain, document_chain)"
   ]
  },
  {
   "cell_type": "code",
   "execution_count": 87,
   "metadata": {},
   "outputs": [],
   "source": [
    "chat_history = [HumanMessage(content=\"Can LangSmith help test my LLM applications?\"), AIMessage(content=\"Yes!\")]\n",
    "result = retrieval_chain.invoke({\n",
    "    \"chat_history\": chat_history,\n",
    "    \"input\": \"Tell me how\"\n",
    "})"
   ]
  },
  {
   "cell_type": "code",
   "execution_count": 91,
   "metadata": {},
   "outputs": [
    {
     "name": "stdout",
     "output_type": "stream",
     "text": [
      "LangSmith can help test your LLM applications by providing tracing and\n",
      "evaluation capabilities. With tracing, you can debug and monitor your chains and\n",
      "intelligent agents built on any LLM framework. The evaluation feature allows you\n",
      "to test and assess the performance of your applications. Additionally, LangSmith\n",
      "seamlessly integrates with LangChain, the open source framework for building\n",
      "with LLMs, to enhance the testing process.\n"
     ]
    }
   ],
   "source": [
    "printlongtext(result[\"answer\"])"
   ]
  },
  {
   "cell_type": "markdown",
   "metadata": {},
   "source": [
    "## Agent"
   ]
  },
  {
   "cell_type": "code",
   "execution_count": 92,
   "metadata": {},
   "outputs": [],
   "source": [
    "from langchain.tools.retriever import create_retriever_tool\n",
    "\n",
    "retriever_tool = create_retriever_tool(\n",
    "    retriever,\n",
    "    \"langsmith_search\",\n",
    "    \"Search for information about LangSmith. For any questions about LangSmith, you must use this tool!\",\n",
    ")"
   ]
  },
  {
   "cell_type": "code",
   "execution_count": 94,
   "metadata": {},
   "outputs": [],
   "source": [
    "from langchain_community.tools.tavily_search import TavilySearchResults\n",
    "\n",
    "search = TavilySearchResults()"
   ]
  },
  {
   "cell_type": "code",
   "execution_count": 95,
   "metadata": {},
   "outputs": [],
   "source": [
    "tools = [retriever_tool, search]"
   ]
  },
  {
   "cell_type": "code",
   "execution_count": 96,
   "metadata": {},
   "outputs": [],
   "source": [
    "from langchain_openai import ChatOpenAI\n",
    "from langchain import hub\n",
    "from langchain.agents import create_openai_functions_agent\n",
    "from langchain.agents import AgentExecutor\n",
    "\n",
    "# Get the prompt to use - you can modify this!\n",
    "prompt = hub.pull(\"hwchase17/openai-functions-agent\")\n",
    "llm = ChatOpenAI(model=\"gpt-3.5-turbo\", temperature=0)\n",
    "agent = create_openai_functions_agent(llm, tools, prompt)\n",
    "agent_executor = AgentExecutor(agent=agent, tools=tools, verbose=True)"
   ]
  },
  {
   "cell_type": "code",
   "execution_count": 97,
   "metadata": {},
   "outputs": [
    {
     "name": "stdout",
     "output_type": "stream",
     "text": [
      "\n",
      "\n",
      "\u001b[1m> Entering new AgentExecutor chain...\u001b[0m\n",
      "\u001b[32;1m\u001b[1;3m\n",
      "Invoking: `langsmith_search` with `{'query': 'How can LangSmith help with testing?'}`\n",
      "\n",
      "\n",
      "\u001b[0m\u001b[36;1m\u001b[1;3m[Document(page_content=\"LangSmith | 🦜️🛠️ LangSmith\\n\\n\\n\\n\\n\\nSkip to main content🦜️🛠️ LangSmith DocsLangChain Python DocsLangChain JS/TS DocsLangSmith API DocsSearchGo to AppLangSmithUser GuideSetupPricing (Coming Soon)Self-HostingTracingEvaluationMonitoringPrompt HubLangSmithOn this pageLangSmithIntroduction\\u200bLangSmith is a platform for building production-grade LLM applications.It lets you debug, test, evaluate, and monitor chains and intelligent agents built on any LLM framework and seamlessly integrates with LangChain, the go-to open source framework for building with LLMs.LangSmith is developed by LangChain, the company behind the open source LangChain framework.Quick Start\\u200bTracing: Get started with the tracing quick start.Evaluation: Get started with the evaluation quick start.Next Steps\\u200bCheck out the following sections to learn more about LangSmith:User Guide: Learn about the workflows LangSmith supports at each stage of the LLM application lifecycle.Setup: Learn how to create an account, obtain an API key, and configure your environment.Pricing: Learn about the pricing model for LangSmith.Self-Hosting: Learn about self-hosting options for LangSmith.Tracing: Learn about the tracing capabilities of LangSmith.Evaluation: Learn about the evaluation capabilities of LangSmith.Prompt Hub Learn about the Prompt Hub, a prompt management tool built into LangSmith.Additional Resources\\u200bLangSmith Cookbook: A collection of tutorials and end-to-end walkthroughs using LangSmith.LangChain Python: Docs for the Python LangChain library.LangChain Python API Reference: documentation to review the core APIs of LangChain.LangChain JS: Docs for the TypeScript LangChain libraryDiscord: Join us on our Discord to discuss all things LangChain!Contact SalesIf you're interested in enterprise security and admin features, special deployment options, or access for large teams, reach out to speak with sales.NextUser GuideIntroductionQuick StartNext StepsAdditional ResourcesCommunityDiscordTwitterGitHubDocs CodeLangSmith SDKPythonJS/TSMoreHomepageBlogCopyright © 2024 LangChain, Inc.\", metadata={'source': 'https://docs.smith.langchain.com', 'title': 'LangSmith | 🦜️🛠️ LangSmith', 'description': 'Introduction', 'language': 'en'})]\u001b[0m\u001b[32;1m\u001b[1;3mLangSmith is a platform for building production-grade LLM (Large Language Model) applications. It can help with testing by allowing you to debug, test, evaluate, and monitor chains and intelligent agents built on any LLM framework. LangSmith seamlessly integrates with LangChain, which is an open-source framework for building with LLMs. \n",
      "\n",
      "You can use LangSmith for tracing, evaluation, and monitoring your LLM applications. It supports various workflows at each stage of the LLM application lifecycle. Additionally, LangSmith offers a Prompt Hub, which is a prompt management tool built into the platform.\n",
      "\n",
      "If you are interested in learning more about how LangSmith can specifically help with testing, you can explore the User Guide, Setup, and Evaluation sections on the LangSmith platform.\u001b[0m\n",
      "\n",
      "\u001b[1m> Finished chain.\u001b[0m\n"
     ]
    }
   ],
   "source": [
    "result = agent_executor.invoke({\"input\": \"how can langsmith help with testing?\"})"
   ]
  },
  {
   "cell_type": "code",
   "execution_count": 105,
   "metadata": {},
   "outputs": [
    {
     "name": "stdout",
     "output_type": "stream",
     "text": [
      "{\n",
      "    \"input\": \"how can langsmith help with testing?\",\n",
      "    \"output\": \"LangSmith is a platform for building production-grade LLM (Large Language Model) applications. It can help with testing by allowing you to debug, test, evaluate, and monitor chains and intelligent agents built on any LLM framework. LangSmith seamlessly integrates with LangChain, which is an open-source framework for building with LLMs. \\n\\nYou can use LangSmith for tracing, evaluation, and monitoring your LLM applications. It supports various workflows at each stage of the LLM application lifecycle. Additionally, LangSmith offers a Prompt Hub, which is a prompt management tool built into the platform.\\n\\nIf you are interested in learning more about how LangSmith can specifically help with testing, you can explore the User Guide, Setup, and Evaluation sections on the LangSmith platform.\"\n",
      "}\n",
      "--------------------------------------------------------------------------------\n",
      "LangSmith is a platform for building production-grade LLM (Large Language Model)\n",
      "applications. It can help with testing by allowing you to debug, test, evaluate,\n",
      "and monitor chains and intelligent agents built on any LLM framework. LangSmith\n",
      "seamlessly integrates with LangChain, which is an open-source framework for\n",
      "building with LLMs.   You can use LangSmith for tracing, evaluation, and\n",
      "monitoring your LLM applications. It supports various workflows at each stage of\n",
      "the LLM application lifecycle. Additionally, LangSmith offers a Prompt Hub,\n",
      "which is a prompt management tool built into the platform.  If you are\n",
      "interested in learning more about how LangSmith can specifically help with\n",
      "testing, you can explore the User Guide, Setup, and Evaluation sections on the\n",
      "LangSmith platform.\n"
     ]
    }
   ],
   "source": [
    "# print the json object as a string with pretty formatting with indent of 4, also make it wrap long lines\n",
    "print(json.dumps(result, indent=4))\n",
    "print(\"-\" * 80)\n",
    "printlongtext(result[\"output\"], 20)"
   ]
  },
  {
   "cell_type": "code",
   "execution_count": 106,
   "metadata": {},
   "outputs": [
    {
     "name": "stdout",
     "output_type": "stream",
     "text": [
      "\n",
      "\n",
      "\u001b[1m> Entering new AgentExecutor chain...\u001b[0m\n",
      "\u001b[32;1m\u001b[1;3m\n",
      "Invoking: `tavily_search_results_json` with `{'query': 'weather in San Francisco'}`\n",
      "\n",
      "\n",
      "\u001b[0m\u001b[33;1m\u001b[1;3m[{'url': 'https://www.wunderground.com/forecast/us/ca/san-francisco', 'content': 'Get the latest weather information for San Francisco, CA, including temperature, precipitation, wind speed, and humidity. See the hourly and 10-day forecast for the South of Market station and other nearby weather stations.'}, {'url': 'https://www.accuweather.com/en/us/san-francisco/94103/weather-forecast/347629', 'content': 'Get the current weather, radar, and air quality for San Francisco, CA. See the forecast for today, tonight, and the next two days, as well as the outlook for the next week.'}, {'url': 'https://www.theweathernetwork.com/us/weather/california/san-francisco', 'content': 'Get the most current and reliable weather information for San Francisco, California, including storm alerts, reports and videos. See the temperature, feels like, wind, humidity, visibility and more for the next 7 days.'}, {'url': 'https://weather.com/weather/hourbyhour/l/USCA0987:1:US', 'content': \"recents\\nSpecialty Forecasts\\nHourly Weather-San Francisco, CA\\nBeach Hazard Statement\\nSaturday, November 25\\n5 pm\\nClear\\n6 pm\\nClear\\n7 pm\\nClear\\n8 pm\\nMostly Clear\\n9 pm\\nPartly Cloudy\\n10 pm\\nPartly Cloudy\\n11 pm\\nPartly Cloudy\\nSunday, November 26\\n12 am\\nPartly Cloudy\\n1 am\\nMostly Cloudy\\n2 am\\nMostly Cloudy\\n3 am\\nMostly Cloudy\\n4 am\\nCloudy\\n5 am\\nCloudy\\n6 am\\nMostly Cloudy\\n7 am\\nMostly Cloudy\\n8 am\\nMostly Cloudy\\n9 am\\nMostly Cloudy\\n10 am\\nPartly Cloudy\\n11 am\\nPartly Cloudy\\n12 pm\\nPartly Cloudy\\n1 pm\\nPartly Cloudy\\n2 pm\\nPartly Cloudy\\n3 pm\\nPartly Cloudy\\n4 pm\\nPartly Cloudy\\n5 pm\\nPartly Cloudy\\n6 pm\\nPartly Cloudy\\n7 pm\\nPartly Cloudy\\n8 pm\\nPartly Cloudy\\n9 pm\\nMostly Clear\\n10 pm\\nMostly Clear\\n11 pm\\nMostly Clear\\nMonday, November 27\\n12 am\\nClear\\n1 am\\nMostly Clear\\n2 am\\nMostly Clear\\n3 am\\nPartly Cloudy\\n4 am\\nMostly Clear\\n5 am\\nMostly Clear\\n6 am\\nClear\\n7 am\\nClear\\n8 am\\nSunny\\n9 am\\nSunny\\n10 am\\nSunny\\n11 am\\nSunny\\n12 pm\\nMostly Sunny\\n1 pm\\nPartly Cloudy\\n2 pm\\nMostly Sunny\\n3 pm\\nMostly Sunny\\n4 pm\\nPartly Cloudy\\nRadar\\nSafety First!\\n Don't Miss\\nIrresistible\\nWeather Wonders\\nOur Amazing World\\nCelestial Symphony\\nFried Turkey Fail\\nLook At That!\\n Health & Activities\\nSeasonal Allergies and Pollen Count Forecast\\nNo pollen detected in your area\\nCold & Flu Forecast\\nFlu risk is low in your area\\nWe recognize our responsibility to use data and technology for good. Changes For Critters\\nHurricane Tracker\\nStay Safe\\nAir Quality Index\\nAir quality is considered satisfactory, and air pollution poses little or no risk.\\n Take control of your data.\\n\"}, {'url': 'https://weather.com/weather/tenday/l/San Francisco CA USCA0987:1:US', 'content': \"Comfy & Cozy\\nThat's Not What Was Expected\\nOutside\\n'No-Name Storms' In Florida\\nGifts From On High\\nWhat To Do For Wheezing\\nSurviving The Season\\nStay Safe\\nAir Quality Index\\nAir quality is considered satisfactory, and air pollution poses little or no risk.\\n Health & Activities\\nSeasonal Allergies and Pollen Count Forecast\\nNo pollen detected in your area\\nCold & Flu Forecast\\nFlu risk is low in your area\\nWe recognize our responsibility to use data and technology for good. recents\\nSpecialty Forecasts\\n10 Day Weather-San Francisco, CA\\nToday\\nMon 18 | Day\\nConsiderable cloudiness. Tue 19\\nTue 19 | Day\\nLight rain early...then remaining cloudy with showers in the afternoon. Wed 27\\nWed 27 | Day\\nOvercast with rain showers at times.\"}]\u001b[0m\u001b[32;1m\u001b[1;3mYou can check the latest weather information for San Francisco, CA, including temperature, precipitation, wind speed, and humidity on websites like [Weather Underground](https://www.wunderground.com/forecast/us/ca/san-francisco), [AccuWeather](https://www.accuweather.com/en/us/san-francisco/94103/weather-forecast/347629), [The Weather Network](https://www.theweathernetwork.com/us/weather/california/san-francisco), and [Weather.com](https://weather.com/weather/hourbyhour/l/USCA0987:1:US).\u001b[0m\n",
      "\n",
      "\u001b[1m> Finished chain.\u001b[0m\n"
     ]
    }
   ],
   "source": [
    "sf_weather = agent_executor.invoke({\"input\": \"what is the weather in SF?\"})"
   ]
  },
  {
   "cell_type": "code",
   "execution_count": 107,
   "metadata": {},
   "outputs": [
    {
     "name": "stdout",
     "output_type": "stream",
     "text": [
      "You can check the latest weather information for San Francisco, CA, including\n",
      "temperature, precipitation, wind speed, and humidity on websites like [Weather\n",
      "Underground](https://www.wunderground.com/forecast/us/ca/san-francisco),\n",
      "[AccuWeather](https://www.accuweather.com/en/us/san-francisco/94103/weather-\n",
      "forecast/347629), [The Weather\n",
      "Network](https://www.theweathernetwork.com/us/weather/california/san-francisco),\n",
      "and [Weather.com](https://weather.com/weather/hourbyhour/l/USCA0987:1:US).\n"
     ]
    }
   ],
   "source": [
    "printlongtext(sf_weather[\"output\"], 20)"
   ]
  },
  {
   "cell_type": "code",
   "execution_count": 108,
   "metadata": {},
   "outputs": [
    {
     "name": "stdout",
     "output_type": "stream",
     "text": [
      "\n",
      "\n",
      "\u001b[1m> Entering new AgentExecutor chain...\u001b[0m\n",
      "\u001b[32;1m\u001b[1;3m\n",
      "Invoking: `langsmith_search` with `{'query': 'LangSmith LLM application testing services'}`\n",
      "\n",
      "\n",
      "\u001b[0m\u001b[36;1m\u001b[1;3m[Document(page_content=\"LangSmith | 🦜️🛠️ LangSmith\\n\\n\\n\\n\\n\\nSkip to main content🦜️🛠️ LangSmith DocsLangChain Python DocsLangChain JS/TS DocsLangSmith API DocsSearchGo to AppLangSmithUser GuideSetupPricing (Coming Soon)Self-HostingTracingEvaluationMonitoringPrompt HubLangSmithOn this pageLangSmithIntroduction\\u200bLangSmith is a platform for building production-grade LLM applications.It lets you debug, test, evaluate, and monitor chains and intelligent agents built on any LLM framework and seamlessly integrates with LangChain, the go-to open source framework for building with LLMs.LangSmith is developed by LangChain, the company behind the open source LangChain framework.Quick Start\\u200bTracing: Get started with the tracing quick start.Evaluation: Get started with the evaluation quick start.Next Steps\\u200bCheck out the following sections to learn more about LangSmith:User Guide: Learn about the workflows LangSmith supports at each stage of the LLM application lifecycle.Setup: Learn how to create an account, obtain an API key, and configure your environment.Pricing: Learn about the pricing model for LangSmith.Self-Hosting: Learn about self-hosting options for LangSmith.Tracing: Learn about the tracing capabilities of LangSmith.Evaluation: Learn about the evaluation capabilities of LangSmith.Prompt Hub Learn about the Prompt Hub, a prompt management tool built into LangSmith.Additional Resources\\u200bLangSmith Cookbook: A collection of tutorials and end-to-end walkthroughs using LangSmith.LangChain Python: Docs for the Python LangChain library.LangChain Python API Reference: documentation to review the core APIs of LangChain.LangChain JS: Docs for the TypeScript LangChain libraryDiscord: Join us on our Discord to discuss all things LangChain!Contact SalesIf you're interested in enterprise security and admin features, special deployment options, or access for large teams, reach out to speak with sales.NextUser GuideIntroductionQuick StartNext StepsAdditional ResourcesCommunityDiscordTwitterGitHubDocs CodeLangSmith SDKPythonJS/TSMoreHomepageBlogCopyright © 2024 LangChain, Inc.\", metadata={'source': 'https://docs.smith.langchain.com', 'title': 'LangSmith | 🦜️🛠️ LangSmith', 'description': 'Introduction', 'language': 'en'})]\u001b[0m\u001b[32;1m\u001b[1;3mLangSmith is a platform for building production-grade LLM applications. It allows you to debug, test, evaluate, and monitor chains and intelligent agents built on any LLM framework. LangSmith seamlessly integrates with LangChain, the open-source framework for building with LLMs. \n",
      "\n",
      "You can learn more about LangSmith by checking out their user guide, setup instructions, pricing details, self-hosting options, tracing capabilities, evaluation capabilities, and the Prompt Hub. Additionally, you can explore the LangSmith Cookbook, which is a collection of tutorials and end-to-end walkthroughs using LangSmith.\n",
      "\n",
      "If you are interested in using LangSmith for testing your LLM applications, you can follow the quick start guides for tracing and evaluation provided by LangSmith.\u001b[0m\n",
      "\n",
      "\u001b[1m> Finished chain.\u001b[0m\n"
     ]
    }
   ],
   "source": [
    "chat_history = [HumanMessage(content=\"Can LangSmith help test my LLM applications?\"), AIMessage(content=\"Yes!\")]\n",
    "result_ls = agent_executor.invoke({\n",
    "    \"chat_history\": chat_history,\n",
    "    \"input\": \"Tell me how\"\n",
    "})"
   ]
  },
  {
   "cell_type": "code",
   "execution_count": 109,
   "metadata": {},
   "outputs": [
    {
     "name": "stdout",
     "output_type": "stream",
     "text": [
      "LangSmith is a platform for building production-grade LLM applications. It\n",
      "allows you to debug, test, evaluate, and monitor chains and intelligent agents\n",
      "built on any LLM framework. LangSmith seamlessly integrates with LangChain, the\n",
      "open-source framework for building with LLMs.   You can learn more about\n",
      "LangSmith by checking out their user guide, setup instructions, pricing details,\n",
      "self-hosting options, tracing capabilities, evaluation capabilities, and the\n",
      "Prompt Hub. Additionally, you can explore the LangSmith Cookbook, which is a\n",
      "collection of tutorials and end-to-end walkthroughs using LangSmith.  If you are\n",
      "interested in using LangSmith for testing your LLM applications, you can follow\n",
      "the quick start guides for tracing and evaluation provided by LangSmith.\n"
     ]
    }
   ],
   "source": [
    "printlongtext(result_ls[\"output\"], 20)"
   ]
  },
  {
   "cell_type": "markdown",
   "metadata": {},
   "source": [
    "## Serving with LangServe"
   ]
  },
  {
   "cell_type": "markdown",
   "metadata": {},
   "source": [
    "Refer to serv.py"
   ]
  }
 ],
 "metadata": {
  "kernelspec": {
   "display_name": "langchain",
   "language": "python",
   "name": "python3"
  },
  "language_info": {
   "codemirror_mode": {
    "name": "ipython",
    "version": 3
   },
   "file_extension": ".py",
   "mimetype": "text/x-python",
   "name": "python",
   "nbconvert_exporter": "python",
   "pygments_lexer": "ipython3",
   "version": "3.11.7"
  }
 },
 "nbformat": 4,
 "nbformat_minor": 2
}
